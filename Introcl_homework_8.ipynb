{
 "cells": [
  {
   "cell_type": "markdown",
   "metadata": {},
   "source": [
    "# LIN 353C: Introduction to Computational Linguistics,  Fall 2022, Erk\n",
    "\n",
    "# Homework 8:  Parsing\n",
    "\n",
    "## Due: Friday November 18, end of day\n",
    "\n",
    "## Your name:\n",
    "## Your EID:\n",
    "\n",
    "This homework comes with the following files:\n",
    "\n",
    "* Introcl_homework_8.ipynb: this notebook, which has the homework problems. \n",
    "\n",
    "**This time, you can either put your answers into this same notebook, or submit them on a separate sheet, whichever is easier for you to format. Whichever you choose, please include your name and EID in the document you submit.**\n",
    "\n",
    "**If any of these instructions do not make sense to you, please get in\n",
    " touch with the instructor right away.**\n",
    "\n",
    "\n",
    "A perfect solution to this homework will be worth *100* points. \n",
    "\n"
   ]
  },
  {
   "cell_type": "markdown",
   "metadata": {},
   "source": [
    "# Problem 1: Parsing with the Cocke-Younger-Kasami (CKY) algorithm (100 points)\n",
    "\n",
    "For this problem, please create a complete CKY parse table for this\n",
    "Garden path sentence:\n",
    "\n",
    "    The old man the boat\n",
    "    \n",
    "Here is the grammar in normal form, as we discussed in class: Each rule is either binary branching (a phrase is analyzed into exactly two subphrases) or lexical (a phrase is realized by a single word).\n",
    "\n",
    "\n",
    "    S -> NP VP\n",
    "    S -> man\n",
    "    S -> V NP\n",
    "    NP -> DT N1 \n",
    "    NP -> DT N \n",
    "    N1 -> JJ N \n",
    "    VP -> man \n",
    "    VP -> V NP \n",
    "    N -> old\n",
    "    N -> man \n",
    "    N -> boat\n",
    "    JJ -> old\n",
    "    V -> man\n",
    "    DT -> the\n",
    "\n",
    "Please label each cell of the chart by:\n",
    "* either the words that it spans\n",
    "* or the span as a pair of numbers, as in Jurafsky and Martin\n",
    "\n",
    "Fill each cell with all applicable nonterminals from the grammar, as we did in class.\n",
    "\n",
    "Does this grammar find a parse tree for this sentence? If so, draw the parse tree."
   ]
  },
  {
   "cell_type": "markdown",
   "metadata": {},
   "source": [
    "*You can put your answer here, or in a separate document if that is easier to format.*"
   ]
  }
 ],
 "metadata": {
  "kernelspec": {
   "display_name": "Python 3 (ipykernel)",
   "language": "python",
   "name": "python3"
  },
  "language_info": {
   "codemirror_mode": {
    "name": "ipython",
    "version": 3
   },
   "file_extension": ".py",
   "mimetype": "text/x-python",
   "name": "python",
   "nbconvert_exporter": "python",
   "pygments_lexer": "ipython3",
   "version": "3.11.0"
  }
 },
 "nbformat": 4,
 "nbformat_minor": 4
}
