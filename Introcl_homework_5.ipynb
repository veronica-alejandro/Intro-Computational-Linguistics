{
 "cells": [
  {
   "cell_type": "markdown",
   "metadata": {},
   "source": [
    "# LIN 353C: Introduction to Computational Linguistics,  Fall 2022, Erk\n",
    "\n",
    "# Homework 5:  Logistic regression, and word similarities\n",
    "\n",
    "## Due: Wednesday October 19, 3pm right before class\n",
    "\n",
    "## Your name: Veronica Alejandro\n",
    "## Your EID: vaa678\n",
    "\n",
    "This homework comes with the following files:\n",
    "\n",
    "* Introcl_homework_5.ipynb: this notebook, which has the homework problems. **Please put your answers into this same notebook.**\n",
    "* `trainreviews.txt`, `trainlabels.txt`, `testreviews.txt`, `testlabels.txt`: Data to be used for the sentiment analysis classifier\n",
    "\n",
    "\n",
    "Please record all your answers in the appropriate place in this notebook, and **do not forget to put your name and EID at the top of this notebook**.\n",
    "\n",
    "For the part of the homework that requires you to write Python code,\n",
    "we need to see the code.\n",
    "You can omit statements that\n",
    "produced an error or that did not form part of the eventual solution,\n",
    "but please include all the Python code that formed part of your\n",
    "solution. \n",
    "\n",
    "Please use comments to explain what your code does. Any code that seems complicated to you, or goes on for more than 2 lines, can probably use a comment. Just practice commenting more than you think the code needs. As you will see once you pull out an old piece of code you wrote and try to figure out what you were doing, code always needs more comments than you think.\n",
    "\n",
    "### Important note: Please hit the fast-forward button on this notebook, and confirm \"Restart and Run all cells\", so the code included in this notebook will be executed on your machine. However, there is one command below (loading a gensim space) that may take a while, please plan for that. \n",
    "\n",
    "\n",
    "**If any of these instructions do not make sense to you, please get in\n",
    " touch with the instructor right away.**\n",
    "\n",
    "\n",
    "A perfect solution to this homework will be worth *100* points. \n",
    "\n"
   ]
  },
  {
   "cell_type": "markdown",
   "metadata": {},
   "source": [
    "# Problem 1: Sentiment Analysis with Logistic Regression \n",
    "\n",
    "In this problem, you will do classification, again for sentiment analysis: You will train a classifier to tell apart positive and negative  reviews. But this time, you will not use Naive Bayes but Logistic Regression.\n",
    "\n",
    "## Training and test data\n",
    "\n",
    "The data we use is from http://www.cs.jhu.edu/~mdredze/datasets/sentiment/index2.html. They have reviews in four different areas; we only use the DVD movie reviews. We have split the reviews into a training set and a test set; the files are included with this homework. \n",
    "\n",
    "Here is how to read in the reviews, and their gold labels. We have used 1 for positive reviews, and 0 for negative reviews:"
   ]
  },
  {
   "cell_type": "code",
   "execution_count": 1,
   "metadata": {},
   "outputs": [
    {
     "name": "stdout",
     "output_type": "stream",
     "text": [
      "number of training datapoints:  1800\n",
      "number of test datapoints:  199\n"
     ]
    }
   ],
   "source": [
    "# training data\n",
    "trainingdocs = open(\"trainreviews.txt\").readlines()\n",
    "# training labels: convert to integers\n",
    "traininglabels = [int(v) for v in open(\"trainlabels.txt\").read().split()]\n",
    "\n",
    "# test data\n",
    "testdocs = open(\"testreviews.txt\").readlines()\n",
    "# test labels: convert to integer\n",
    "testlabels = [int(v) for v in open(\"testlabels.txt\").read().split()]\n",
    "\n",
    "print(\"number of training datapoints: \", len(trainingdocs))\n",
    "print(\"number of test datapoints: \", len(testdocs))"
   ]
  },
  {
   "cell_type": "markdown",
   "metadata": {},
   "source": [
    "## 1.1 Preprocessing (20 points)\n",
    "\n",
    "In the Jupyter Notebook on Naive Bayes with scikit-learn, you learned how to use sklearn's feature extraction datatypes to transform text data into the vectors of numbers that sklearn takes as input. \n",
    "\n",
    "For this problem, use again the text transformation datatype `CountVectorizer`. Please check the notebook on Naive Bayes on how to get an object of this type. To remind you, `CountVectorizer` takes as input a list of documents and turns them into a matrix of counts.\n",
    "\n",
    "In the Naive Bayes notebook, we used the `CountVectorizer` object with all its default values. But it can be customized. If you like, you can experiment with some settings, for example the `CountVectorizer` can also remove stopwords, or count bigrams instead of unigrams only. You can find information on this here:\n",
    "* Here is the documentation page: https://scikit-learn.org/stable/modules/generated/sklearn.feature_extraction.text.CountVectorizer.html\n",
    "* Here is a tutorial: https://scikit-learn.org/stable/modules/feature_extraction.html#text-feature-extraction\n",
    "\n",
    "If you experiment with the settings, document clearly what settings you used and what they do.\n",
    "\n",
    "Use a `CountVectorizer` object to transform both the training and the test data from above. Please store the `CountVectorizer` object in a variable called `feature_extractor`.\n",
    "\n"
   ]
  },
  {
   "cell_type": "code",
   "execution_count": 2,
   "metadata": {},
   "outputs": [],
   "source": [
    "from sklearn.feature_extraction.text import CountVectorizer\n",
    "\n",
    "feature_extractor = CountVectorizer()\n",
    "\n",
    "X = feature_extractor.fit_transform(trainingdocs)\n",
    "X_test = feature_extractor.transform(testdocs)"
   ]
  },
  {
   "cell_type": "markdown",
   "metadata": {},
   "source": [
    "## 1.2 Training and test (20 points)\n",
    "\n",
    "For this problem, make a logistic regression object using `sklearn`, train it on the training data, and apply it to the test data. \n",
    "\n",
    "This works exactly like for Naive Bayes, except that you need a `LogisticRegression` object, as described here:\n",
    "https://scikit-learn.org/stable/modules/generated/sklearn.linear_model.LogisticRegression.html\n",
    "\n",
    "You will need to import it from `sklearn.linear_model`. Please store the classifier itself in a variable called `lmodel`. And store the classification results for the test data in a variable called `result`.\n"
   ]
  },
  {
   "cell_type": "code",
   "execution_count": 3,
   "metadata": {},
   "outputs": [
    {
     "name": "stdout",
     "output_type": "stream",
     "text": [
      "[1 1 1 1 0 1 1 1 1 1 0 1 0 1 1 1 1 1 1 1 1 1 1 1 1 1 1 1 1 1 1 1 1 0 1 0 1\n",
      " 1 1 1 1 1 1 0 0 1 1 1 1 1 1 1 0 1 1 1 1 1 1 1 1 1 0 1 1 1 1 0 1 1 0 1 1 1\n",
      " 1 1 1 1 1 1 1 1 1 1 1 1 0 1 0 1 1 1 1 1 1 1 1 1 0 1 0 0 1 1 0 1 0 1 0 0 0\n",
      " 0 0 1 0 0 0 0 0 0 0 0 0 0 0 1 1 0 0 1 1 1 0 0 0 0 0 0 0 0 0 0 0 1 1 0 0 0\n",
      " 0 0 0 0 0 0 0 0 1 1 0 1 0 1 0 0 1 0 0 0 0 0 0 1 0 0 1 0 1 0 0 0 0 0 1 0 0\n",
      " 1 1 1 0 0 0 0 0 0 1 0 0 1 0]\n"
     ]
    },
    {
     "name": "stderr",
     "output_type": "stream",
     "text": [
      "C:\\Users\\veron\\anaconda3\\lib\\site-packages\\sklearn\\linear_model\\_logistic.py:814: ConvergenceWarning: lbfgs failed to converge (status=1):\n",
      "STOP: TOTAL NO. of ITERATIONS REACHED LIMIT.\n",
      "\n",
      "Increase the number of iterations (max_iter) or scale the data as shown in:\n",
      "    https://scikit-learn.org/stable/modules/preprocessing.html\n",
      "Please also refer to the documentation for alternative solver options:\n",
      "    https://scikit-learn.org/stable/modules/linear_model.html#logistic-regression\n",
      "  n_iter_i = _check_optimize_result(\n"
     ]
    }
   ],
   "source": [
    "from sklearn.linear_model import LogisticRegression\n",
    "\n",
    "lmodel = LogisticRegression()\n",
    "lmodel.fit(X, traininglabels)\n",
    "result = lmodel.predict(X_test)\n",
    "print(result)"
   ]
  },
  {
   "cell_type": "markdown",
   "metadata": {},
   "source": [
    "You can now make a list that pairs each prediction with the true label by using the function `zip()`. This function takes two lists of equal length and \"zips\" them into a list of pairs, like so:"
   ]
  },
  {
   "cell_type": "code",
   "execution_count": 4,
   "metadata": {},
   "outputs": [
    {
     "data": {
      "text/plain": [
       "[('a', 100), ('b', 200), ('c', 300)]"
      ]
     },
     "execution_count": 4,
     "metadata": {},
     "output_type": "execute_result"
    }
   ],
   "source": [
    "list1 = [\"a\", \"b\", \"c\"]\n",
    "list2 = [100, 200, 300]\n",
    "list(zip(list1, list2))"
   ]
  },
  {
   "cell_type": "markdown",
   "metadata": {},
   "source": [
    "You will need to use this command:\n",
    "\n",
    "`predicted_and_gold = list(zip(result, testlabels))`\n",
    "\n",
    "This will produce a list of pairs. The first member of each pair is the model's guess, and the second member of the pair is the true label.\n",
    "\n",
    "When you inspect the first elements of `predicted_and_gold` with the command\n",
    "`predicted_and_gold[:5]`\n",
    "you should see something like this:\n",
    "`[(1, 1), (1, 1), (1, 1), (1, 1), (0, 1)]`\n",
    "\n",
    "Please compute the *accuracy* of your model as the fraction of test datapoint where it got the prediction right:\n",
    "* Count the number of correct guesses: Iterate over the pairs of labels in `predicted_and_gold`. Whenever the predicted label is the same as the gold label, add one to the number of correct guesses.\n",
    "* Afterwards, you can compute the accuracy as the number of correct guesses divided by the number of test labels."
   ]
  },
  {
   "cell_type": "code",
   "execution_count": 5,
   "metadata": {},
   "outputs": [
    {
     "name": "stdout",
     "output_type": "stream",
     "text": [
      "Accuracy: 79.9%\n"
     ]
    }
   ],
   "source": [
    "predicted_and_gold = list(zip(result, testlabels))\n",
    "num_correct = 0\n",
    "\n",
    "for pred, gold in predicted_and_gold:\n",
    "    if pred == gold:\n",
    "        num_correct += 1\n",
    "\n",
    "acc = (num_correct / len(testlabels)) * 100\n",
    "print('Accuracy: {:.1f}%'.format(acc))"
   ]
  },
  {
   "cell_type": "markdown",
   "metadata": {},
   "source": [
    "## 1.3 Inspecting weights (20 points)\n",
    "\n",
    "As we discussed in class, logistic regression learns a weight for each feature. Features with a high positive weight are the features that are most typical of positive reviews. Features with a high negative weight are the features that are most typical of negative reviews. \n",
    "\n",
    "For this problem, you will inspect the weights to see which features the model found particularly indicative. \n",
    "\n",
    "We will again use the function `zip()` that we used in the previous problem. We will also make use of the fact that a logistic regression model in sklearn stores a matrix of all its feature weights in `coef_` (with the underscore). The features are in the same order as in the list of feature names in `feature_extractor`. You can make a list of all feature/weight pairs with the following command:\n",
    "\n",
    "`words_and_weights= zip(feature_extractor.get_feature_names(), \n",
    "                       lmodel.coef_.tolist()[0])`\n",
    "                       \n",
    "Please inspect indicative features as follows:\n",
    "* Sort the list `words_and_weights` of word/weight pairs by the weights.\n",
    "* Display the 10 words with the highest positive weight.\n",
    "* Display the 10 words with the lowest negative weight."
   ]
  },
  {
   "cell_type": "code",
   "execution_count": 6,
   "metadata": {},
   "outputs": [
    {
     "name": "stdout",
     "output_type": "stream",
     "text": [
      "The 10 words with the highest positive weight:\n",
      "\tgreat 1.1311416047988316\n",
      "\tbest 1.0592557592191685\n",
      "\tloved 0.9551511272772996\n",
      "\tenjoy 0.8678656354766583\n",
      "\tmust 0.8415414244685535\n",
      "\thope 0.7890166656500325\n",
      "\twonderful 0.7878306021981363\n",
      "\tlove 0.7721659817523846\n",
      "\tseason 0.7401686296395785\n",
      "\tstill 0.7239004023579507\n",
      "The 10 words with the lowest negative weight:\n",
      "\tworst -1.6957924822254222\n",
      "\tboring -1.3440728077745827\n",
      "\thorrible -1.139585573438249\n",
      "\tterrible -1.1040913221012734\n",
      "\tbad -1.0196972020559645\n",
      "\twaste -0.9836645039173555\n",
      "\tsucks -0.9730991632381496\n",
      "\tstupid -0.8767014210763033\n",
      "\tminutes -0.8478213025583308\n",
      "\tlame -0.795941623969186\n"
     ]
    },
    {
     "name": "stderr",
     "output_type": "stream",
     "text": [
      "C:\\Users\\veron\\anaconda3\\lib\\site-packages\\sklearn\\utils\\deprecation.py:87: FutureWarning: Function get_feature_names is deprecated; get_feature_names is deprecated in 1.0 and will be removed in 1.2. Please use get_feature_names_out instead.\n",
      "  warnings.warn(msg, category=FutureWarning)\n"
     ]
    }
   ],
   "source": [
    "words_and_weights = list(zip(feature_extractor.get_feature_names(), lmodel.coef_.tolist()[0]))\n",
    "words_and_weights.sort(key = lambda x : x[1])\n",
    "\n",
    "print('The 10 words with the highest positive weight:')\n",
    "for word, weight in reversed(words_and_weights[-10:]):\n",
    "    print('\\t' + word + ' ' + str(weight))\n",
    "    \n",
    "print('The 10 words with the lowest negative weight:')\n",
    "for word, weight in words_and_weights[:10]:\n",
    "    print('\\t' + word + ' ' + str(weight))"
   ]
  },
  {
   "cell_type": "markdown",
   "metadata": {},
   "source": [
    "Comment on your findings: Do the features intuitively make sense?"
   ]
  },
  {
   "cell_type": "markdown",
   "metadata": {},
   "source": [
    "I think some of the features and their weights do make sense and I would expect them to have a higher or lower weight. However, there are still some words that don't really feel like the belong in the top or bottom 10, like \"season,\" \"still,\" and \"minutes.\""
   ]
  },
  {
   "cell_type": "markdown",
   "metadata": {},
   "source": [
    "# Problem 2: Words in semantic space \n",
    "\n",
    "In the rest of this homework, you will explore pre-computed word embeddings, context-based representations of word meaning. For this, you will need the following Python packages:\n",
    "\n",
    "* gensim, https://pypi.org/project/gensim/\n",
    "* matplotlib, https://matplotlib.org/users/installing.html\n",
    "* sklearn, https://scikit-learn.org/stable/install.html#installation-instructions\n",
    "* numpy, https://www.scipy.org/install.html\n",
    "\n",
    "\n",
    "The *gensim* package comes with a number of pre-computed embeddings. For this homework, we will use the smallest one to make sure you can run the homework on your computer. If you want to use pre-computed word embeddings for your own work, please use embeddings that have more dimensions and that provide a better fit to human similarity ratings! (As a rule of thumb, higher-dimensional vectors will often give you better meaning representations, but they will also be a larger dataset.)\n",
    "\n",
    "Here is the code that loads pre-computed GloVE embeddings that have been learned from Wikipedia and Gigaword, where each word is represented by a 50-dimensional vector. *Note*: The first time you execute the `load()` command, it downloads the embedding\n",
    "dataset and stores it on your computer. If you execute the `load()` command a second time, the data will be loaded locally from your computer, it is not downloaded a second time."
   ]
  },
  {
   "cell_type": "code",
   "execution_count": 7,
   "metadata": {},
   "outputs": [],
   "source": [
    "# loading the gensim package : \n",
    "# we only need the downloader\n",
    "import gensim.downloader as gensim_api\n",
    "gensim_api.info()[\"models\"].keys()\n",
    "\n",
    "# getting the smallest space\n",
    "space = gensim_api.load(\"glove-wiki-gigaword-50\")"
   ]
  },
  {
   "cell_type": "markdown",
   "metadata": {},
   "source": [
    "The data structure we have stored in `space` comes with a number of methods defined by Gensim. Here are some of the most important ones:"
   ]
  },
  {
   "cell_type": "code",
   "execution_count": 8,
   "metadata": {},
   "outputs": [
    {
     "name": "stdout",
     "output_type": "stream",
     "text": [
      "10 most similar words to 'dog': [('cat', 0.9218006134033203), ('dogs', 0.8513158559799194), ('horse', 0.7907583117485046), ('puppy', 0.7754921317100525), ('pet', 0.7724707722663879), ('rabbit', 0.7720813751220703), ('pig', 0.7490062117576599), ('snake', 0.7399188280105591), ('baby', 0.7395570278167725), ('bite', 0.7387937307357788)]\n",
      "\n",
      "Cosine similarity of 'cat' and 'dog': 0.92180055\n",
      "\n",
      "here is the vector for 'rhino': [-0.47675  -0.90334  -0.22451   0.24039   0.45649   0.10803  -0.99265\n",
      " -1.5533    1.6991    0.39065   0.75083  -0.029712  0.73762  -0.18474\n",
      "  0.42353   0.10064   0.53984   0.22226  -0.81498   0.4811   -1.0921\n",
      " -0.060861  0.11872  -0.35688  -0.55111   0.22513  -0.32886   0.22122\n",
      " -0.088048 -1.0982    0.62585  -0.19342  -0.068856  0.59042   0.11721\n",
      "  0.83193   0.54431  -1.8303   -0.36146  -0.59634  -0.37526  -0.10193\n",
      " -0.41323  -0.5087    0.53766   0.28345   0.10833  -0.050318 -0.6323\n",
      " -0.88698 ]\n",
      "\n"
     ]
    }
   ],
   "source": [
    "# This retrieves the top N (in this case 10)\n",
    "# most similar words to ’dog ’ in this\n",
    "# embedding space , with cosine similarities to ’dog ’\n",
    "print(\"10 most similar words to 'dog':\", \n",
    "      space.most_similar (\"dog\" , topn = 10))\n",
    "print()\n",
    "\n",
    "# This computes the cosine similarity between # the vectors for ’cat’ and ’dog’\n",
    "print(\"Cosine similarity of 'cat' and 'dog':\",\n",
    "      space.similarity (\"cat\" , \"dog\"))\n",
    "print()\n",
    "\n",
    "# this returns the vector for the word ’rhino ’\n",
    "print(\"here is the vector for 'rhino':\",\n",
    "      space [\"rhino\"])\n",
    "print()"
   ]
  },
  {
   "cell_type": "markdown",
   "metadata": {},
   "source": [
    "\n",
    "## 2.1 Inspecting nearest neighbors (20 points)\n",
    "\n",
    "Use the method `most_similar()`, as demonstrated above, to determine the 10 nearest neighbors of:\n",
    "* three nouns of your choice that have more than one sense (like \"bank\" or \"bat\")\n",
    "* three verbs of your choice\n",
    "* three adjectives of your choice\n",
    "* three words that describe professions"
   ]
  },
  {
   "cell_type": "code",
   "execution_count": 9,
   "metadata": {},
   "outputs": [
    {
     "name": "stdout",
     "output_type": "stream",
     "text": [
      "1. Three nouns with more than one sense: \n",
      "\n",
      "Noun: bank\n",
      "[('banks', 0.8698630332946777), ('securities', 0.7996813654899597), ('banking', 0.7965158820152283), ('investment', 0.784970760345459), ('exchange', 0.780882716178894), ('financial', 0.7670274972915649), ('credit', 0.764915406703949), ('lender', 0.7518407702445984), ('capital', 0.7380707859992981), ('brokerage', 0.7373986840248108)]\n",
      "\n",
      "Noun: bat\n",
      "[('bats', 0.7963688969612122), ('wicket', 0.7592863440513611), ('catch', 0.7541334629058838), ('balls', 0.7539033889770508), ('ball', 0.7205045819282532), ('pitch', 0.7166817784309387), ('opener', 0.7043341398239136), ('bowled', 0.6956042647361755), ('batsman', 0.6945196390151978), ('tendulkar', 0.6740003824234009)]\n",
      "\n",
      "Noun: bow\n",
      "[('jhaw', 0.7480618357658386), ('pin', 0.7327284216880798), ('arrow', 0.7047606706619263), ('nose', 0.6697147488594055), ('pins', 0.6540331840515137), ('locks', 0.6467417478561401), ('horns', 0.6381622552871704), ('brass', 0.6241673827171326), ('neck', 0.6240577101707458), ('lips', 0.6237773299217224)]\n",
      "\n",
      "2. Three verbs: \n",
      "\n",
      "Verb: leave\n",
      "[('stay', 0.935055136680603), ('leaving', 0.8813117742538452), ('return', 0.8811298608779907), ('waiting', 0.8712669610977173), ('wait', 0.8692353963851929), ('take', 0.8691335916519165), ('immediately', 0.8677055239677429), ('rest', 0.8673421144485474), ('go', 0.8625022768974304), ('soon', 0.852500855922699)]\n",
      "\n",
      "Verb: study\n",
      "[('studies', 0.9493000507354736), ('researchers', 0.8880428075790405), ('research', 0.8827947378158569), ('studying', 0.8657326102256775), ('scientific', 0.8339577913284302), ('clinical', 0.8249524235725403), ('science', 0.8078492283821106), ('medical', 0.7996068596839905), ('analysis', 0.7983035445213318), ('scientists', 0.7969214916229248)]\n",
      "\n",
      "Verb: work\n",
      "[('working', 0.9163013100624084), ('done', 0.8910592794418335), ('well', 0.8780410885810852), ('works', 0.8739686012268066), ('own', 0.8690434694290161), ('worked', 0.8538495302200317), ('besides', 0.8455568552017212), ('making', 0.8316954970359802), ('doing', 0.8313522338867188), ('and', 0.8276164531707764)]\n",
      "\n",
      "3. Three adjectives: \n",
      "\n",
      "Adjective: amazing\n",
      "[('incredible', 0.9189565181732178), ('fantastic', 0.8799789547920227), ('awesome', 0.8620665669441223), ('wonderful', 0.8537988662719727), ('terrific', 0.8482186794281006), ('marvelous', 0.8439217805862427), ('astonishing', 0.8103039860725403), ('remarkable', 0.8091044425964355), ('exciting', 0.7941179275512695), ('unbelievable', 0.791654109954834)]\n",
      "\n",
      "Adjective: cool\n",
      "[('hot', 0.8605023622512817), ('warm', 0.8107472658157349), ('cold', 0.8103548884391785), ('bit', 0.7934333682060242), ('dry', 0.7665708661079407), ('cooler', 0.7619423270225525), ('little', 0.7598215937614441), ('mix', 0.7533073425292969), ('soft', 0.7453753352165222), ('bright', 0.7423365712165833)]\n",
      "\n",
      "Adjective: interesting\n",
      "[('intriguing', 0.8791046738624573), ('fascinating', 0.8790913224220276), ('familiar', 0.8381073474884033), ('exciting', 0.8310763239860535), ('compelling', 0.8238799571990967), ('quite', 0.8146846294403076), ('possibilities', 0.8102021813392639), ('seem', 0.791011393070221), ('odd', 0.7901343107223511), ('sorts', 0.7875166535377502)]\n",
      "\n",
      "4. Three words that describe professions: \n",
      "\n",
      "Word: analytical\n",
      "[('methodology', 0.8368144035339355), ('analysis', 0.8081181049346924), ('theoretical', 0.794714093208313), ('empirical', 0.7887019515037537), ('analyses', 0.773464024066925), ('methodologies', 0.7553312182426453), ('mathematical', 0.7499455809593201), ('analytic', 0.7478282451629639), ('computational', 0.7463002800941467), ('scientific', 0.7423635125160217)]\n",
      "\n",
      "Word: creative\n",
      "[('innovative', 0.8271956443786621), ('artistic', 0.79791659116745), ('creativity', 0.7976393103599548), ('filmmaking', 0.7921932339668274), ('talent', 0.7892215847969055), ('talents', 0.7864570021629333), ('skills', 0.7823116183280945), ('collaboration', 0.7719364762306213), ('experience', 0.7718091607093811), ('focuses', 0.7709327936172485)]\n",
      "\n",
      "Word: hard-working\n",
      "[('industrious', 0.8814042806625366), ('hardworking', 0.8571391105651855), ('well-meaning', 0.8278449773788452), ('kind-hearted', 0.8229471445083618), ('well-educated', 0.8069189190864563), ('kindhearted', 0.7946133017539978), ('well-spoken', 0.7904964685440063), ('god-fearing', 0.7864957451820374), ('warm-hearted', 0.7742039561271667), ('good-looking', 0.7709074020385742)]\n"
     ]
    }
   ],
   "source": [
    "print('1. Three nouns with more than one sense: ')\n",
    "print()\n",
    "print('Noun: bank')\n",
    "print(space.most_similar(\"bank\", topn = 10))\n",
    "print()\n",
    "print('Noun: bat')\n",
    "print(space.most_similar(\"bat\", topn = 10))\n",
    "print()\n",
    "print('Noun: bow')\n",
    "print(space.most_similar(\"bow\", topn = 10))\n",
    "print()\n",
    "print(\"2. Three verbs: \")\n",
    "print()\n",
    "print('Verb: leave')\n",
    "print(space.most_similar(\"leave\", topn = 10))\n",
    "print()\n",
    "print('Verb: study')\n",
    "print(space.most_similar(\"study\", topn = 10))\n",
    "print()\n",
    "print('Verb: work')\n",
    "print(space.most_similar(\"work\", topn = 10))\n",
    "print()\n",
    "print(\"3. Three adjectives: \")\n",
    "print()\n",
    "print('Adjective: amazing')\n",
    "print(space.most_similar(\"amazing\", topn = 10))\n",
    "print()\n",
    "print('Adjective: cool')\n",
    "print(space.most_similar(\"cool\", topn = 10))\n",
    "print()\n",
    "print('Adjective: interesting')\n",
    "print(space.most_similar(\"interesting\", topn = 10))\n",
    "print()\n",
    "print(\"4. Three words that describe professions: \")\n",
    "print()\n",
    "print('Word: analytical')\n",
    "print(space.most_similar(\"analytical\", topn = 10))\n",
    "print()\n",
    "print('Word: creative')\n",
    "print(space.most_similar(\"creative\", topn = 10))\n",
    "print()\n",
    "print('Word: hard-working')\n",
    "print(space.most_similar(\"hard-working\", topn = 10))\n"
   ]
  },
  {
   "cell_type": "markdown",
   "metadata": {},
   "source": [
    "Please note down at least three observations about the nearest neighbors that you computed:"
   ]
  },
  {
   "cell_type": "markdown",
   "metadata": {},
   "source": [
    "For leave, I was surprised that \"stay\" was the first one in the list. I understand that it is related to \"leave\" in the sense that it has opposites, but I would have expected to see something that meant the same as the first one on the list. \n",
    "<br>\n",
    "<br>\n",
    "I also tried to choose verbs and adjectives that might have multiple sense just to see what the nearest neighbors were, like with \"cool\" as an adjective. It could also be used to describe temperature, which is exactly what I saw on the nearest neighbors listed. I also saw the same pattern with \"leave,\" in that the first word was its opposite. So, \"hot\" and \"warm\" were the first nearest neighbors for \"cool.\" Additionally, there were no words related to the adjective \"cool\" meaning awesome or excellent.\n",
    "<br>\n",
    "<br>\n",
    "Finally, I found the last word I did to be the most interesting because it quickly went from \"industrious,\" which makes sense to me to \"god-fearing,\" \"warm-hearted,\" and \"good-looking.\" These are not words that I would think to be close to \"hard-working\"! I found it a bit funny but mostly odd. "
   ]
  },
  {
   "cell_type": "markdown",
   "metadata": {},
   "source": [
    "## 2.2 Visualization (5 points)\n",
    "\n",
    "Below is a piece of code that projects word embeddings to a two-dimensional space in a way that, as far as possible, preserves relative location between points. It then visualizes the given points. "
   ]
  },
  {
   "cell_type": "code",
   "execution_count": 10,
   "metadata": {},
   "outputs": [],
   "source": [
    "import numpy as np\n",
    "import matplotlib.pyplot as plt\n",
    "from sklearn.decomposition import PCA\n",
    "\n",
    "# This function takes as input a list of words,\n",
    "# and a gensim KeyedVectors object,\n",
    "# and uses Principal Component Analysis\n",
    "# to project all the words to a 2-dimensional space,\n",
    "# which is visualized using pyplot.\n",
    "def visualize_words(words, space):\n",
    "    # get the vectors for all the words,\n",
    "    # and store in an array\n",
    "    word_vectors = np.array([space[w] for w in words])\n",
    "    \n",
    "    # use Principal Component Analysis \n",
    "    # to reduce the vectors for all the words to\n",
    "    # only two coordinates each\n",
    "    # while retaining as much of the information\n",
    "    # as possible\n",
    "    twodim = PCA().fit_transform(word_vectors)[:,:2]\n",
    "\n",
    "    # set up the canvas\n",
    "    plt.figure(figsize=(6,6))\n",
    "    # add a scatter plot of the two-D embeddings\n",
    "    plt.scatter(twodim[:,0], twodim[:,1], edgecolors='k', c='r')\n",
    "    # add each of the words to the plot, a bit above and to the right\n",
    "    # of the 2-D dot it goes with\n",
    "    for word, (x,y) in zip(words, twodim):\n",
    "        plt.text(x+0.05, y+0.05, word)\n",
    "\n",
    "    # now show the canvas\n",
    "    plt.show()\n"
   ]
  },
  {
   "cell_type": "markdown",
   "metadata": {},
   "source": [
    "To use the code, call `visualize_words()` with two arguments: a list of words, and a space. Here is an example:"
   ]
  },
  {
   "cell_type": "code",
   "execution_count": 11,
   "metadata": {},
   "outputs": [
    {
     "data": {
      "image/png": "[encoded data removed]",
      "text/plain": [
       "<Figure size 432x432 with 1 Axes>"
      ]
     },
     "metadata": {
      "needs_background": "light"
     },
     "output_type": "display_data"
    }
   ],
   "source": [
    "visualize_words([\"dog\", \"cat\", \"mouse\", \"gerbil\", \"canary\"], space)"
   ]
  },
  {
   "cell_type": "markdown",
   "metadata": {},
   "source": [
    "For *three* of the words you inspected in 2.1, make visualizions that include the word and its 10 nearest neighbors as determined in 2.1. "
   ]
  },
  {
   "cell_type": "code",
   "execution_count": 12,
   "metadata": {},
   "outputs": [
    {
     "data": {
      "image/png": "[encoded data removed]",
      "text/plain": [
       "<Figure size 432x432 with 1 Axes>"
      ]
     },
     "metadata": {
      "needs_background": "light"
     },
     "output_type": "display_data"
    },
    {
     "data": {
      "image/png": "[encoded data removed]",
      "text/plain": [
       "<Figure size 432x432 with 1 Axes>"
      ]
     },
     "metadata": {
      "needs_background": "light"
     },
     "output_type": "display_data"
    },
    {
     "data": {
      "image/png": "[encoded data removed]",
      "text/plain": [
       "<Figure size 432x432 with 1 Axes>"
      ]
     },
     "metadata": {
      "needs_background": "light"
     },
     "output_type": "display_data"
    }
   ],
   "source": [
    "visualize_words([\"leave\", \"stay\", \"leaving\", \"return\", \"waiting\", \"wait\", \"take\", \"immediately\", \"rest\", \"go\", \"soon\"], space)\n",
    "\n",
    "visualize_words([\"cool\", \"hot\", \"warm\", \"cold\", \"bit\", \"dry\", \"cooler\", \"little\", \"mix\", \"soft\", \"brighter\"], space)\n",
    "\n",
    "visualize_words([\"hard-working\", \"industrious\", \"hardworking\", \"well-meaning\", \"kind-hearted\", \"well-educated\", \n",
    "                 \"kindhearted\", \"well-spoken\", \"god-fearing\", \"warm-hearted\", \"good-looking\"], space)\n"
   ]
  },
  {
   "cell_type": "markdown",
   "metadata": {},
   "source": [
    "Please write down at least two observations about the visualizations you obtained:"
   ]
  },
  {
   "cell_type": "markdown",
   "metadata": {},
   "source": [
    "1. I was expecting there to be words a lot closer to my original word than they actually were. For example, I would have expected \"leaving\" to be a lot closer to \"leave\" than it really was. Same for \"hardworking\" to \"hard-working.\" It makes me wonder how the model treats spelling differences.\n",
    "2. On the other hand, words that were closer together surprised me as well. In the last plot, \"god-fearing\" and \"kindhearted\" are very close and this is something I would not have expected. It makes me wonder why and to analyze more into it."
   ]
  },
  {
   "cell_type": "markdown",
   "metadata": {},
   "source": [
    "## 2.3 Computing cosine similarity (15 points)\n",
    "\n",
    "The cosine similarity of two vectors $\\vec a = \\langle a_1, \\ldots, a_n\\rangle$ and $\\vec b = \\langle b_1, \\ldots, b_n\\rangle$ is defined as \n",
    "\n",
    "$cos(\\vec a, \\vec b) = \\frac{\n",
    "\\sum_i a_i b_i}{\\sqrt{\\sum_i a_i^2} \\sqrt{\\sum_i b_i^2}}$\n",
    "\n",
    "That is, for the numerator we get: $a_1b_1 + a_2b_2 + \\ldots + a_nb_n$. \n",
    "In the denominator, we get this for $\\vec a$: $\\sqrt{a_1a_1 + a_2a_2 + \\ldots + a_na_n}$, and anlogously for $\\vec b$. \n",
    "\n",
    "Please compute the cosine similarity by hand for the following two vectors, and show your work: \n",
    "\n",
    "* $\\langle 5, 12, 2\\rangle$\n",
    "* $\\langle 7, 2, 9\\rangle$"
   ]
  },
  {
   "cell_type": "markdown",
   "metadata": {},
   "source": [
    "### Step 1. Numerator\n",
    "- $5 * 7 = 35$\n",
    "- $2 * 12 = 24$\n",
    "- $2 * 9 = 18$\n",
    "- $35 + 24 + 18 = 77$\n",
    "- Numerator = 77\n",
    "<br>\n"
   ]
  },
  {
   "cell_type": "markdown",
   "metadata": {},
   "source": [
    "### Step 2. Denominator\n",
    "- $5^2 = 25, 12^2 = 144, 2^2 = 4$\n",
    "- $7^2 = 49, 2^2 = 4, 9^2 = 81$\n",
    "- $25 + 144+ 4 = 173$\n",
    "- $49 + 4 + 81 = 134$\n",
    "- $sqrt(173) = 13.152946438$\n",
    "- $sqrt(134) = 11.5758369028$\n",
    "- Denominator = $13.152946438 * 11.5758369028 = 152.256362758$\n"
   ]
  },
  {
   "cell_type": "markdown",
   "metadata": {},
   "source": [
    "### Step 3. Cosine similarity\n",
    "- $\\frac{77}{152.256362758} = 0.505725991382$"
   ]
  },
  {
   "cell_type": "markdown",
   "metadata": {},
   "source": [
    "Now write Python code that will compute cosine similarity, without using gensim's `similarity`. You will need to load the `math` package and use `math.sqrt()` for the square root. Apply your code to the two vectors from above.\n",
    " "
   ]
  },
  {
   "cell_type": "code",
   "execution_count": 13,
   "metadata": {},
   "outputs": [
    {
     "name": "stdout",
     "output_type": "stream",
     "text": [
      "0.5057259913851795\n"
     ]
    }
   ],
   "source": [
    "import math\n",
    "\n",
    "v1 = [5, 12, 2]\n",
    "v2 = [7, 2, 9]\n",
    "\n",
    "# calculate the sum of the product of a, b as seen in the numerator\n",
    "sum_num = 0\n",
    "v1_v2 = list(zip(v1, v2))\n",
    "for a, b in v1_v2:\n",
    "    sum_num += a * b\n",
    "    \n",
    "# calculate first element in denominator\n",
    "a_sq_sum = 0\n",
    "for a in v1:\n",
    "    a_sq_sum += a ** 2\n",
    "sqrt_a = math.sqrt(a_sq_sum)\n",
    "\n",
    "# same as above for all b in v2\n",
    "b_sq_sum = 0\n",
    "for b in v2:\n",
    "    b_sq_sum += b ** 2\n",
    "sqrt_b = math.sqrt(b_sq_sum)\n",
    "\n",
    "denom = sqrt_a * sqrt_b\n",
    "\n",
    "cosine_sim = sum_num / denom\n",
    "print(cosine_sim)"
   ]
  }
 ],
 "metadata": {
  "kernelspec": {
   "display_name": "Python 3",
   "language": "python",
   "name": "python3"
  },
  "language_info": {
   "codemirror_mode": {
    "name": "ipython",
    "version": 3
   },
   "file_extension": ".py",
   "mimetype": "text/x-python",
   "name": "python",
   "nbconvert_exporter": "python",
   "pygments_lexer": "ipython3",
   "version": "3.9.12"
  }
 },
 "nbformat": 4,
 "nbformat_minor": 4
}
